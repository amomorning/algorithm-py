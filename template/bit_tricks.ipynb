{
 "cells": [
  {
   "cell_type": "markdown",
   "metadata": {},
   "source": [
    "## 状态压缩"
   ]
  },
  {
   "cell_type": "code",
   "execution_count": null,
   "metadata": {},
   "outputs": [],
   "source": [
    "n = 120\n",
    "k = 5\n",
    "print(bin(n))\n",
    "# 取第 k 位\n",
    "print((n >> k) & 1)\n",
    "# 取后 k 位\n",
    "print(bin(n & ((1<<k) - 1)))\n",
    "# 取前 k 位 \n",
    "print(bin(n >> (n.bit_length() - k)))\n",
    "\n",
    "# 第 k 位取反\n",
    "print(bin(n ^ (1<<k)))\n",
    "# 第 k 位赋 1 \n",
    "print(bin(n | (1<<k)))\n",
    "# 第 k 位赋 0\n",
    "print(bin(n & (~(1<<k))))"
   ]
  },
  {
   "cell_type": "markdown",
   "metadata": {},
   "source": [
    "## 用二进制表示数位集合"
   ]
  },
  {
   "cell_type": "markdown",
   "metadata": {},
   "source": [
    "### 要求集合中不能有两个相邻的元素"
   ]
  },
  {
   "cell_type": "code",
   "execution_count": null,
   "metadata": {},
   "outputs": [],
   "source": [
    "mask = 0b101010010\n",
    "print ((mask >> 1) & mask)\n",
    "mask = 0b101011010\n",
    "print ((mask >> 1) & mask)"
   ]
  },
  {
   "cell_type": "markdown",
   "metadata": {},
   "source": [
    "### 子集枚举： 0 位与mask一致的所有元素"
   ]
  },
  {
   "cell_type": "code",
   "execution_count": null,
   "metadata": {},
   "outputs": [],
   "source": [
    "m = mask\n",
    "while m > 0:\n",
    "    print(bin(m))\n",
    "    m = (m-1) & mask"
   ]
  },
  {
   "cell_type": "markdown",
   "metadata": {},
   "source": [
    "### 子集枚举：1位与mask一致的所有元素"
   ]
  },
  {
   "cell_type": "code",
   "execution_count": null,
   "metadata": {},
   "outputs": [],
   "source": [
    "m = mask\n",
    "while m <= (1<<mask.bit_length()):\n",
    "    print(bin(m))\n",
    "    m = (m+1) | mask"
   ]
  },
  {
   "cell_type": "markdown",
   "metadata": {},
   "source": [
    "### 枚举恰好有 k 个 1 的所有元素"
   ]
  },
  {
   "cell_type": "code",
   "execution_count": null,
   "metadata": {},
   "outputs": [],
   "source": [
    "\n",
    "n = 10\n",
    "m = 0b111111\n",
    "while m < (1<<n):\n",
    "    t = m & -m\n",
    "    print(bin(m))\n",
    "    m = (m+t) | (((m ^ (m+t)) >> 2)//t)"
   ]
  },
  {
   "cell_type": "markdown",
   "metadata": {},
   "source": [
    "## 其他"
   ]
  },
  {
   "cell_type": "markdown",
   "metadata": {},
   "source": [
    "### 判断是否为 4 的幂次"
   ]
  },
  {
   "cell_type": "code",
   "execution_count": null,
   "metadata": {},
   "outputs": [],
   "source": [
    "def is_power_of_four(n):\n",
    "    return  not bool(n & (n-1)) and bool(n&0x55555555)\n",
    "\n",
    "is_power_of_four(64)"
   ]
  },
  {
   "cell_type": "markdown",
   "metadata": {},
   "source": [
    "### 判断0~n中丢失的一个数值"
   ]
  },
  {
   "cell_type": "code",
   "execution_count": null,
   "metadata": {},
   "outputs": [],
   "source": [
    "ret = 0\n",
    "nums = [0, 1, 2, 3, 4, 6, 7, 8, 9]\n",
    "for i, x in enumerate(nums):\n",
    "    ret ^= x\n",
    "    ret ^= i\n",
    "ret ^ len(nums)"
   ]
  },
  {
   "cell_type": "markdown",
   "metadata": {},
   "source": [
    "### 求区间内的AND值"
   ]
  },
  {
   "cell_type": "code",
   "execution_count": null,
   "metadata": {},
   "outputs": [],
   "source": [
    "def bitrange(m, n):\n",
    "    a = 0\n",
    "    while m != n:\n",
    "        m >>= 1\n",
    "        n >>= 1\n",
    "        a += 1\n",
    "    return m<<a\n",
    "\n",
    "bitrange(5, 7)"
   ]
  },
  {
   "cell_type": "markdown",
   "metadata": {},
   "source": [
    "## BitSet"
   ]
  },
  {
   "cell_type": "code",
   "execution_count": null,
   "metadata": {},
   "outputs": [],
   "source": [
    "DIV = 63\n",
    "class BitSet:\n",
    "    @staticmethod\n",
    "    def get_bucket_size(x):\n",
    "        return ((x-1) // DIV) + 1\n",
    "\n",
    "    @staticmethod\n",
    "    def popcount(x):\n",
    "        x = x - ((x >> 1) & 0x5555555555555555)\n",
    "        x = (x & 0x3333333333333333) + ((x >> 2) & 0x3333333333333333)\n",
    "        x = (x + (x >> 4)) & 0x0f0f0f0f0f0f0f0f\n",
    "        x = x + (x >> 8)\n",
    "        x = x + (x >> 16)\n",
    "        x = x + (x >> 32)\n",
    "        return x & 0x0000007f\n",
    "    \n",
    "\n",
    "    def __init__(self, n):\n",
    "        self.n = n\n",
    "        self.buckets = [0] * self.get_bucket_size(n)\n",
    "\n",
    "    def in_range(self, p):\n",
    "        return 0 <= p and p < self.n\n",
    "\n",
    "    def set(self, p, val = True):\n",
    "        assert self.in_range(p)\n",
    "        if val: self.buckets[p // DIV] |= 1 << (p % DIV)\n",
    "        elif self.test(p): self.flip(p)\n",
    "            \n",
    "    def test(self, p):\n",
    "        assert self.in_range(p)\n",
    "        return self.buckets[p // DIV] >> (p % DIV) & 1\n",
    "    \n",
    "    def flip(self, p = None):\n",
    "        if p is None:\n",
    "            for i in range(self.n):\n",
    "                self.flip(i)\n",
    "        else:\n",
    "            assert self.in_range(p)\n",
    "            self.buckets[p // DIV] ^= 1 << (p % DIV)\n",
    "\n",
    "    def any(self):\n",
    "        for mask in self.buckets:\n",
    "            if mask: return True\n",
    "        return False\n",
    "    \n",
    "    def count(self):\n",
    "        ret = 0\n",
    "        for mask in self.buckets:\n",
    "            ret += self.popcount(mask)\n",
    "        return ret\n",
    "    \n",
    "    def lowbit(self):\n",
    "        for i, x in enumerate(self.buckets):\n",
    "            if x > 0: return (i * DIV) + (x & -x).bit_length()-1\n",
    "    \n",
    "    def touch(self, l, r):\n",
    "        L, R = l // DIV, r // DIV\n",
    "        for i in range(DIV):\n",
    "            if (self.buckets[L] >> i) & 1:\n",
    "                w = L * DIV + i\n",
    "                if l <= w and w <= r: return w\n",
    "        for i, x in enumerate(self.buckets[L+1, R]):\n",
    "            if x: return i * DIV + (x & -x).bit_length() - 1\n",
    "        for i in range(DIV):\n",
    "            if (self.buckets[R] >> i) & i:\n",
    "                w = R * DIV + i\n",
    "                if l <= w and w <= r: return w\n",
    "        return -1\n",
    "\n",
    "    def resize(self, m):\n",
    "        newsz = self.get_bucket_size(m)\n",
    "        sz = len(self.buckets)\n",
    "        if newsz < sz:\n",
    "            self.buckets = self.buckets[0:sz]\n",
    "        else:\n",
    "            self.buckets += [0] * (newsz-sz)\n",
    "        self.n = m\n",
    "        return None\n",
    "\n",
    "    def size(self):\n",
    "        return self.n\n",
    "    \n",
    "    def __len__(self):\n",
    "        return self.n\n",
    "    \n",
    "    def __and__(self, rhs):\n",
    "        ret = BitSet(max(self.size(), rhs.size()))\n",
    "        m = min(len(self.buckets), len(rhs.buckets))\n",
    "        for i in range(m):\n",
    "            ret.buckets[i] = self.buckets[i] & rhs.buckets[i]\n",
    "        return ret\n",
    "    \n",
    "    def __or__(self, rhs):\n",
    "        ret = BitSet(max(self.size(), rhs.size()))\n",
    "        for i in range(len(ret.buckets)):\n",
    "            if i < len(self.buckets): ret.buckets[i] |= self.buckets[i]\n",
    "            if i < len(rhs.buckets): ret.buckets[i] |= rhs.buckets[i]\n",
    "        return ret\n",
    "\n",
    "    def __xor__(self, rhs):\n",
    "        ret = BitSet(max(self.size(), rhs.size()))\n",
    "        for i in range(len(ret.buckets)):\n",
    "            if i < len(self.buckets): ret.buckets[i] ^= self.buckets[i]\n",
    "            if i < len(rhs.buckets): ret.buckets[i] ^= rhs.buckets[i]\n",
    "        return ret\n",
    "    \n",
    "    def __invert__(self):\n",
    "        self.flip()\n",
    "    \n",
    "    def __ilshift__(self, m):\n",
    "        p, w = m // DIV, m % DIV\n",
    "        for i in range(len(self.buckets)-1, -1, -1):\n",
    "            if w == 0:\n",
    "                self.buckets[i] = 0 if i-p < 0 else self.buckets[i-p] \n",
    "            else:\n",
    "                a = 0 if i-p-1 < 0 else self.buckets[i-p-1] >> (DIV - w) \n",
    "                b = 0 if i-p < 0 else self.buckets[i-p] << w \n",
    "                self.buckets[i] = (a | b) % (1 << DIV)\n",
    "        return self\n",
    "    \n",
    "    def __irshift__(self, m):\n",
    "        p, w = m // DIV, m % DIV\n",
    "        n = len(self.buckets)\n",
    "        for i in range(n):\n",
    "            a = self.buckets[i+p] >> w if i + p < n else 0\n",
    "            b = self.buckets[i+p+1] << (DIV - w) if i+p+1 < n and w > 0 else 0\n",
    "            self.buckets[i] = (a | b) % (1 << DIV)\n",
    "        return self\n",
    "            \n",
    "    \n",
    "    def __str__(self):\n",
    "        ret = []\n",
    "        for i, b in enumerate(self.buckets):\n",
    "            tmp = str(bin(b))[2:][::-1]\n",
    "            while len(tmp) + i * DIV < min(self.n, (i+1)*DIV):\n",
    "                tmp += '0'\n",
    "            ret.append(tmp)\n",
    "        return ''.join(ret)\n",
    "    \n",
    "    def __getitem__(self, p):\n",
    "        return self.test(p)\n",
    "    \n",
    "    def __setitem__(self, p, v):\n",
    "        self.set(p, v)\n",
    "        \n",
    "    def __hash__(self):\n",
    "        return hash(tuple(self.buckets))\n",
    "    \n",
    "    def __iter__(self):\n",
    "        return iter(tuple(self.buckets))\n",
    "\n"
   ]
  },
  {
   "cell_type": "code",
   "execution_count": null,
   "metadata": {},
   "outputs": [],
   "source": [
    "from random import randint\n",
    "n = 80\n",
    "s = ''\n",
    "for i in range(n):\n",
    "    s += str(randint(0, 1))\n",
    "\n",
    "b = BitSet(n)\n",
    "a = BitSet(n)\n",
    "print(s)\n",
    "for i in range(n):\n",
    "    if s[i] == '1':\n",
    "        b.set(i)\n",
    "    a.set(i, b.test(i))\n",
    "\n",
    "b.flip()\n",
    "\n",
    "print(b)\n",
    "print(a)\n",
    "print(b.any())\n",
    "print(b.count())\n",
    "print(a ^ b)"
   ]
  },
  {
   "cell_type": "code",
   "execution_count": null,
   "metadata": {},
   "outputs": [],
   "source": [
    "print(s)\n",
    "a >>= 10\n",
    "print(a)\n",
    "print(b)"
   ]
  },
  {
   "cell_type": "code",
   "execution_count": null,
   "metadata": {},
   "outputs": [],
   "source": [
    "for x in a:\n",
    "    print(bin(x))"
   ]
  },
  {
   "cell_type": "code",
   "execution_count": null,
   "metadata": {},
   "outputs": [],
   "source": [
    "print(a.touch(0, 5))\n",
    "print(a.touch(1, 5))"
   ]
  },
  {
   "cell_type": "code",
   "execution_count": null,
   "metadata": {},
   "outputs": [],
   "source": []
  }
 ],
 "metadata": {
  "kernelspec": {
   "display_name": "Python 3.9.12 ('base')",
   "language": "python",
   "name": "python3"
  },
  "language_info": {
   "codemirror_mode": {
    "name": "ipython",
    "version": 3
   },
   "file_extension": ".py",
   "mimetype": "text/x-python",
   "name": "python",
   "nbconvert_exporter": "python",
   "pygments_lexer": "ipython3",
   "version": "3.9.12"
  },
  "orig_nbformat": 4,
  "vscode": {
   "interpreter": {
    "hash": "15f424d5a25c0b28279cc5dde3c0ce2d37243042d5159ad0f026e088fc4d1ab7"
   }
  }
 },
 "nbformat": 4,
 "nbformat_minor": 2
}
